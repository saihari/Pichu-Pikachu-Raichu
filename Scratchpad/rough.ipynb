{
 "cells": [
  {
   "cell_type": "code",
   "execution_count": null,
   "id": "140b5a40-db09-49eb-9dc7-bac845d6557d",
   "metadata": {},
   "outputs": [],
   "source": [
    "import sys\n",
    "import time\n",
    "from typing import final\n",
    "import numpy as np"
   ]
  },
  {
   "cell_type": "code",
   "execution_count": null,
   "id": "531a2abf-eb27-418f-8b98-f118b5314024",
   "metadata": {},
   "outputs": [],
   "source": [
    "str_board = \"........W.W.W.W..w.w.w.w................b.b.b.b..B.B.B.B........\""
   ]
  },
  {
   "cell_type": "code",
   "execution_count": null,
   "id": "c4d9d016-0657-428e-9920-1a51753163a1",
   "metadata": {},
   "outputs": [],
   "source": [
    "N = 8"
   ]
  },
  {
   "cell_type": "code",
   "execution_count": null,
   "id": "f6244f67-6ddb-476a-b154-f7f3aed977f8",
   "metadata": {},
   "outputs": [],
   "source": [
    "number_board = []\n",
    "for i in range(N):\n",
    "        number_board.append([p for p in str_board[N*i:N*(i+1)]]) "
   ]
  },
  {
   "cell_type": "code",
   "execution_count": null,
   "id": "0b3ac09c-e673-4bed-b86f-d834d9ccaba2",
   "metadata": {},
   "outputs": [],
   "source": [
    "board = number_board"
   ]
  },
  {
   "cell_type": "code",
   "execution_count": 90,
   "id": "cdfb40ee-b671-4431-bf69-5dbbba9e6fc2",
   "metadata": {},
   "outputs": [],
   "source": [
    "def print_board(board,N):\n",
    "    for i in range(N):\n",
    "        print(\"\".join(board[i]))"
   ]
  },
  {
   "cell_type": "code",
   "execution_count": null,
   "id": "3e20e0b5-cd51-438f-8e28-a80dd2b0330c",
   "metadata": {
    "tags": []
   },
   "outputs": [],
   "source": [
    "def state_to_string(board, N):\n",
    "    return \"\".join(\"\".join(board[i]) for i in range(N))"
   ]
  },
  {
   "cell_type": "code",
   "execution_count": null,
   "id": "cdc17493-e6c9-423c-9469-c9e233185b4e",
   "metadata": {},
   "outputs": [],
   "source": [
    "print(state_to_string(board,N))"
   ]
  },
  {
   "cell_type": "code",
   "execution_count": 34,
   "id": "95bc1c0b-9859-4bb9-bf4b-a2748b924fb8",
   "metadata": {},
   "outputs": [],
   "source": [
    "import copy\n",
    "import math\n",
    "\n",
    "\n",
    "def slopeAngle(p1,p2):   \n",
    "    \"\"\"Returns the minimum angle the line connecting two points makes with the x-axis.\n",
    "    Args:\n",
    "        p1 ([tuple]): point p1\n",
    "        p2 ([tuple]): point p2\n",
    "    Returns:\n",
    "        [float]: minimum angle between x-axis and line segment joining p1 and p2\n",
    "    \"\"\"\n",
    "    try :\n",
    "        m = (p2[1]-p1[1])/(p2[0]-p1[0])\n",
    "    except ZeroDivisionError:\n",
    "        m = 0\n",
    "    return abs(math.degrees(math.atan(m)))\n",
    "\n",
    "\n",
    "\n",
    "def all_cells_in_bw(init,final):\n",
    "    slope = slopeAngle(init,final)\n",
    "      \n",
    "    if slope in [0,90]:\n",
    "        #points are in either same column or same row\n",
    "        if init[0] == final[0]: #checking for same column\n",
    "            points_between_them = [(final[0],i) for i in range(min(init[1],final[1])+1, max(init[1],final[1]))]\n",
    "\n",
    "        elif init[1] == final[1]: #checking for same row\n",
    "            points_between_them = [(i,final[1]) for i in range(min(init[0],final[0])+1, max(init[0],final[0]))]\n",
    "\n",
    "        else: \n",
    "            raise ValueError(\"slope == 90 but no commanility between row and column; init = (\"+\", \".join(init)+\")\"+\" final = (\"+\", \".join(final)+\")\"+\" Slope: \"+str(slope))\n",
    "\n",
    "    elif slope == 45:\n",
    "        #points are diagonal to each other\n",
    "        m = (final[1]-init[1])/(final[0]-init[0])\n",
    "        intercept = init[1] - init[0]*m\n",
    "\n",
    "        x_points = [i for i in range(min(init[0],final[0])+1, max(init[0],final[0]))]\n",
    "        points_between_them = [(x,int(intercept+m*x)) for x in x_points]\n",
    "\n",
    "    else:\n",
    "        raise(\"points are not in visible line of sight\")\n",
    "    \n",
    "    return points_between_them\n",
    "\n",
    "def nextPoint(init,final,N):\n",
    "    m = slopeAngle(init,final) \n",
    "    if m in [0,90]:\n",
    "        if final[1] == init[1]:\n",
    "            point = ((int(final[0]+(final[0] - init[0])/abs((final[0] - init[0]))), final[1]))\n",
    "        elif final[0] == init[0]:\n",
    "            point = ((final[0], int(final[1]+(final[1] - init[1])/abs((final[1] - init[1]))) ))\n",
    "    elif m in [45]:\n",
    "        point = (((int(final[0]+(final[0] - init[0])/abs((final[0] - init[0])))), int(final[1]+(final[1] - init[1])/abs((final[1] - init[1]))) ))\n",
    "    \n",
    "    return point if valid_index(point,N,N) else None\n",
    "\n",
    "\n",
    "\n",
    "\n",
    "\n",
    "def move_piece(board, player, piece, initial, final, jumpFlag=False, jumpPosition = None):\n",
    "    # print(\"hjhgghj\")\n",
    "    # print(final)\n",
    "    # print(\"ghghghghgh\")\n",
    "\n",
    "    # print(\"Moving Coin from init\", initial , \" to final\", final )\n",
    "\n",
    "    #alters the board\n",
    "    assert ((jumpFlag) and (jumpPosition != None)) or ((not jumpFlag) and (jumpPosition == None)), \"Jump position not passed but jump flag is on\"\n",
    "\n",
    "    #Checking for creation of Raichu\n",
    "    if final[0] == len(board)-1:\n",
    "        if player == \"w\":\n",
    "            if player in \"wW\":\n",
    "                piece = \"@\"\n",
    "        elif player == \"b\":\n",
    "            if player in \"bB\":\n",
    "                piece = \"$\"\n",
    "\n",
    "    temp = copy.deepcopy(board)\n",
    "    temp[initial[0]][initial[1]] = \".\"\n",
    "\n",
    "    if jumpFlag:\n",
    "        temp[jumpPosition[0]][jumpPosition[1]] = \".\"\n",
    "\n",
    "\n",
    "    temp[final[0]][final[1]] = piece\n",
    "\n",
    "    return temp\n",
    "\n",
    "def make_move(board,N,player,piece,init,final):\n",
    "    #if valid move between init and final  and final is empty then moves the piece and returns board\n",
    "    in_between = all_cells_in_bw(init,final)\n",
    "    content = [board[pt[0]][pt[1]] for pt in in_between]\n",
    "    \n",
    "    # print(\"probable move from init\", init , \" to final\", final )\n",
    "    # if final == (1,4):\n",
    "    #     print(init)\n",
    "    #     print(final)\n",
    "    #     print(\"in_bw\",in_between)\n",
    "    #     print(\"Con\",content)\n",
    "    #     print(\"board\",(board[final[0]][final[1]] == \".\"))\n",
    "    \n",
    "    \n",
    "    if (len(content) == 0) and  (board[final[0]][final[1]] == \".\"):\n",
    "        #either no intersections and and final cell empty\n",
    "        \n",
    "        return move_piece(board=board, player=player, piece=piece, initial=init, final=final)\n",
    "\n",
    "    elif (len(content) == 0) and (board[final[0]][final[1]] != \".\"):\n",
    "        #no intersection but final cell is not empty \n",
    "        # check next cell in the same direction if empty and final cell content in capability then jump else immpossible move return None\n",
    "        if board[final[0]][final[1]] in CAPABILITY[player][piece]:\n",
    "            #check for next cell content\n",
    "            destination = nextPoint(init,final,N) #position where the piece will be placed if vacant\n",
    "            if destination and board[destination[0]][destination[1]] == \".\":\n",
    "                return move_piece(board=board, player=player, piece=piece, initial=init, final=destination, jumpFlag=True, jumpPosition = final)\n",
    "            else:\n",
    "                return None\n",
    "        else:\n",
    "            return None\n",
    "\n",
    "    elif (len(content) != 0) and (board[final[0]][final[1]] != \".\"):\n",
    "        #intersections present and final notcell  empty :\n",
    "        #more thank one piece in path cannot jump \n",
    "        if (content.count(\".\") == len(content)) and (board[final[0]][final[1]] in CAPABILITY[player][piece]):\n",
    "            destination = nextPoint(init,final,N) #position where the piece will be placed if vacant\n",
    "            if destination and board[destination[0]][destination[1]] == \".\":\n",
    "                return move_piece(board=board, player=player, piece=piece, initial=init, final=destination, jumpFlag=True, jumpPosition = final)\n",
    "            else:\n",
    "                return None\n",
    "        else:\n",
    "            return None\n",
    "    \n",
    "    elif (len(content) != 0) and (board[final[0]][final[1]] == \".\"):\n",
    "        #2 cases possible\n",
    "        #one piece in intersection'\n",
    "        if content.count(\".\") == len(content):\n",
    "            return move_piece(board=board, player=player, piece=piece, initial=init, final=final)\n",
    "\n",
    "        if content.count(\".\") == len(content)-1:\n",
    "            #intersection piece in capability or not capability or same team piece \n",
    "            try:\n",
    "                #handles if intersection piece is in capability \n",
    "                return move_piece(board=board, player=player, piece=piece, initial=init, final=final, jumpFlag=True, jumpPosition = in_between[[i for i,j in enumerate(content) if j != \".\" and j in CAPABILITY[player][piece]][0]])\n",
    "            except IndexError:\n",
    "                #either the intersection piece is out of capability or same team piece \n",
    "                return None \n",
    "                \n",
    "        #more than one opposite piece in intersection or either one opposite piece and one same team piece  or 1 or more same team pieces implies no move\n",
    "        else:\n",
    "            return None\n",
    "\n",
    "\n",
    "    elif (len(content) != 0) and (content.count(\".\") == len(content)) and (board[final[0]][final[1]] == \".\"):\n",
    "        #there are intersections but all intersection empty and final cell is also empty\n",
    "        return move_piece(board=board, player=player, piece=piece, initial=init, final=final)\n",
    "\n",
    "\n",
    "    \n",
    "    else:\n",
    "        NotImplementedError(\"Case Missing in make_move\")"
   ]
  },
  {
   "cell_type": "code",
   "execution_count": null,
   "id": "60173a24-7405-469f-a54b-f7e269a001ba",
   "metadata": {},
   "outputs": [],
   "source": [
    "board"
   ]
  },
  {
   "cell_type": "code",
   "execution_count": null,
   "id": "56aa22c4-1b80-455b-a73c-2cc8acf76069",
   "metadata": {},
   "outputs": [],
   "source": [
    "d = make_move(board=board,N=N,player=\"w\",piece=\"W\",init=(5,1),final=(6,1))"
   ]
  },
  {
   "cell_type": "code",
   "execution_count": null,
   "id": "6137f4bc-c4e1-4309-84d4-e7f98a790687",
   "metadata": {},
   "outputs": [],
   "source": [
    "board_to_string(board,N)"
   ]
  },
  {
   "cell_type": "code",
   "execution_count": null,
   "id": "a8a760e7-cadf-4bea-853c-4289152fc779",
   "metadata": {},
   "outputs": [],
   "source": [
    "board[5][1] = \"\"\n",
    "# board[6][3] = \"B\"\n",
    "board[1][0] = \".\"\n",
    "# board[5][2] = \"b\"\n",
    "# board[6][5] = \"W\"\n",
    "# board[5][6] = \".\"\n",
    "\n",
    "# board [5][0] ='b' \n",
    "# board [4][1]  =\".\" "
   ]
  },
  {
   "cell_type": "code",
   "execution_count": null,
   "id": "29e6ceca-156d-46fe-9826-b25db7de9ec1",
   "metadata": {},
   "outputs": [],
   "source": []
  },
  {
   "cell_type": "code",
   "execution_count": null,
   "id": "6788615b-d011-4fd1-afd1-a8d82037efdc",
   "metadata": {},
   "outputs": [],
   "source": []
  },
  {
   "cell_type": "code",
   "execution_count": 21,
   "id": "bfb000ed-07ff-4a99-9dcf-978ebc296d20",
   "metadata": {},
   "outputs": [],
   "source": [
    "import math\n",
    "def slopeAngle(p1,p2):   \n",
    "    \"\"\"Returns the minimum angle the line connecting two points makes with the x-axis.\n",
    "    Args:\n",
    "        p1 ([tuple]): point p1\n",
    "        p2 ([tuple]): point p2\n",
    "    Returns:\n",
    "        [float]: minimum angle between x-axis and line segment joining p1 and p2\n",
    "    \"\"\"\n",
    "    try :\n",
    "        m = (p2[1]-p1[1])/(p2[0]-p1[0])\n",
    "    except ZeroDivisionError:\n",
    "        m = 0\n",
    "    return abs(math.degrees(math.atan(m)))\n",
    "\n",
    "def all_cells_in_bw(init,final):\n",
    "    slope = slopeAngle(init,final)\n",
    "      \n",
    "    if slope in [0,90]:\n",
    "        #points are in either same column or same row\n",
    "        if init[0] == final[0]: #checking for same column\n",
    "            points_between_them = [(final[0],i) for i in range(min(init[1],final[1])+1, max(init[1],final[1]))]\n",
    "\n",
    "        elif init[1] == final[1]: #checking for same row\n",
    "            points_between_them = [(i,final[1]) for i in range(min(init[0],final[0])+1, max(init[0],final[0]))]\n",
    "\n",
    "        else: \n",
    "            raise ValueError(\"slope == 90 but no commanility between row and column; init = (\"+\", \".join(init)+\")\"+\" final = (\"+\", \".join(final)+\")\"+\" Slope: \"+str(slope))\n",
    "\n",
    "    elif slope == 45:\n",
    "        #points are diagonal to each other\n",
    "        m = (final[1]-init[1])/(final[0]-init[0])\n",
    "        intercept = init[1] - init[0]*m\n",
    "\n",
    "        x_points = [i for i in range(min(init[0],final[0])+1, max(init[0],final[0]))]\n",
    "        points_between_them = [(x,int(intercept+m*x)) for x in x_points]\n",
    "\n",
    "    else:\n",
    "        raise(\"points are not in visible line of sight\")\n",
    "    \n",
    "    return points_between_them"
   ]
  },
  {
   "cell_type": "code",
   "execution_count": null,
   "id": "dbc6bce2-d47f-44a2-897c-9b6dc3c769ad",
   "metadata": {},
   "outputs": [],
   "source": [
    "all_cells_in_bw((3,0),(5,0))"
   ]
  },
  {
   "cell_type": "code",
   "execution_count": null,
   "id": "780fbf4e-9c6c-4599-ab07-de1ebb3f369c",
   "metadata": {},
   "outputs": [],
   "source": [
    "content = [board[pt[0]][pt[1]] for pt in all_cells_in_bw((3,0),(5,0))]"
   ]
  },
  {
   "cell_type": "code",
   "execution_count": null,
   "id": "6faa4248-a2f5-4fe7-8754-d64c99b72712",
   "metadata": {},
   "outputs": [],
   "source": [
    "content"
   ]
  },
  {
   "cell_type": "code",
   "execution_count": null,
   "id": "1578c36b-9fd7-4c75-936b-609eda408ac6",
   "metadata": {},
   "outputs": [],
   "source": [
    "final = (5,0)"
   ]
  },
  {
   "cell_type": "code",
   "execution_count": null,
   "id": "e9a5ab73-c32b-46ba-a82c-c05a4d015223",
   "metadata": {},
   "outputs": [],
   "source": [
    "board[final[0]][final[1]] in CAPABILITY['w']['W']"
   ]
  },
  {
   "cell_type": "code",
   "execution_count": 20,
   "id": "dd256d2f-cbf1-41b9-ac3e-74bd997bcbd9",
   "metadata": {},
   "outputs": [],
   "source": [
    "CAPABILITY = {\n",
    "    \"w\": {\n",
    "        \"w\" : \"b\",\n",
    "        \"W\": \"bB\",\n",
    "        \"@\": \"bB$\" \n",
    "    } ,\n",
    "    \"b\": {\n",
    "        \"b\" : \"w\",\n",
    "        \"B\": \"wW\",\n",
    "        \"$\": \"wW@\"\n",
    "    }\n",
    "}"
   ]
  },
  {
   "cell_type": "code",
   "execution_count": null,
   "id": "83333658-dc4e-463a-8d88-446d05b45f27",
   "metadata": {},
   "outputs": [],
   "source": [
    "content = [\".\"]"
   ]
  },
  {
   "cell_type": "code",
   "execution_count": null,
   "id": "9279b096-f6af-4340-81b7-a871ba72d088",
   "metadata": {},
   "outputs": [],
   "source": [
    "board"
   ]
  },
  {
   "cell_type": "code",
   "execution_count": null,
   "id": "350fa471-25b3-4aea-8631-981f4d14e3f0",
   "metadata": {},
   "outputs": [],
   "source": []
  },
  {
   "cell_type": "code",
   "execution_count": null,
   "id": "ed4ac087-ba30-4646-83fe-251f8a528a6f",
   "metadata": {},
   "outputs": [],
   "source": [
    "init = (4,0)"
   ]
  },
  {
   "cell_type": "code",
   "execution_count": null,
   "id": "604ab422-667c-4222-b188-30b81b5c3fc1",
   "metadata": {},
   "outputs": [],
   "source": [
    "final = (7,0)"
   ]
  },
  {
   "cell_type": "code",
   "execution_count": null,
   "id": "261c593b-09a4-4046-939d-4b9add662608",
   "metadata": {},
   "outputs": [],
   "source": [
    "content = [board[pt[0]][pt[1]] for pt in all_cells_in_bw((4,0),(7,0))]"
   ]
  },
  {
   "cell_type": "code",
   "execution_count": null,
   "id": "d500d2a2-a772-46b4-bd29-1ec06d37f05e",
   "metadata": {},
   "outputs": [],
   "source": [
    "try:\n",
    "    all_cells_in_bw((4,0),(7,0))[[i for i,j in enumerate(content) if j != \".\" and j in CAPABILITY[\"w\"][\"W\"]][0]]\n",
    "except IndexError:\n",
    "    None"
   ]
  },
  {
   "cell_type": "code",
   "execution_count": null,
   "id": "6c4df8d5-69c0-474d-a3f9-87a2787122ed",
   "metadata": {},
   "outputs": [],
   "source": [
    "content[0] = \"$\""
   ]
  },
  {
   "cell_type": "code",
   "execution_count": null,
   "id": "a27b2b5d-8b0e-40a3-b02e-594db98bcf3f",
   "metadata": {},
   "outputs": [],
   "source": [
    "content"
   ]
  },
  {
   "cell_type": "code",
   "execution_count": null,
   "id": "1ef990b1-6447-421d-a587-6934bf564e23",
   "metadata": {},
   "outputs": [],
   "source": []
  },
  {
   "cell_type": "code",
   "execution_count": null,
   "id": "1d1e8d16-6822-4fc7-b836-dc793235e70d",
   "metadata": {},
   "outputs": [],
   "source": []
  },
  {
   "cell_type": "code",
   "execution_count": null,
   "id": "e1984cfb-d420-4b36-9980-80269b483e01",
   "metadata": {},
   "outputs": [],
   "source": []
  },
  {
   "cell_type": "code",
   "execution_count": null,
   "id": "b0c6c057-968a-4421-96bf-5f702eafa6a0",
   "metadata": {},
   "outputs": [],
   "source": [
    "board[4][0] = \"W\""
   ]
  },
  {
   "cell_type": "code",
   "execution_count": null,
   "id": "b9619752-f9c2-4ca3-a724-62cd0edff17c",
   "metadata": {},
   "outputs": [],
   "source": [
    "board[3][0] = \".\""
   ]
  },
  {
   "cell_type": "code",
   "execution_count": null,
   "id": "b213d4d0-cbe4-4993-b5ad-515ee7b15573",
   "metadata": {},
   "outputs": [],
   "source": [
    "def genMoves(N):\n",
    "    row,col = 0,0\n",
    "    fw = [(row+i,col) for i in range(1,N)]\n",
    "    bk = [(row-1,col) for i in range(1,N)]\n",
    "\n",
    "    left = [(row,col-i) for i in range(1,N)]\n",
    "    right = [(row,col+i) for i in range(1,N)]\n",
    "\n",
    "    diag_lr_fw = [(i,i) for i in range(1,N)]\n",
    "    diag_lr_bk = [(-i,-i) for i in range(1,N)]\n",
    "    diag_rl_bk = [(-i,i) for i in range(1,N)]\n",
    "    diag_rl_fw = [(i,-i) for i in range(1,N)]\n",
    "\n",
    "    return { \"pichu\" : diag_lr_fw[0:1] + diag_rl_fw[0:1],\n",
    "             \"pikachu\" : fw[0:2] + right[0:2] + left[0:2] }\n",
    "\n",
    "ALL_MOVES = genMoves(N)\n",
    "\n",
    "\n",
    "row,col = 3,0\n",
    "for move in ALL_MOVES[\"pikachu\"]:\n",
    "        move = (move[0]+row,move[1]+col)\n",
    "        if not valid_index(move, len(board), len(board[0])):\n",
    "            continue\n",
    "        print(move)"
   ]
  },
  {
   "cell_type": "code",
   "execution_count": null,
   "id": "829fb37b-5e3d-413e-9456-c7732b72bc28",
   "metadata": {},
   "outputs": [],
   "source": [
    "all_cells_in_bw((1,0),(2,0))"
   ]
  },
  {
   "cell_type": "code",
   "execution_count": null,
   "id": "389b37c8-a644-459f-a7a3-8434796e38c8",
   "metadata": {},
   "outputs": [],
   "source": [
    "init  =(4,6)\n",
    "final =(4,5)\n",
    "\n",
    "def nextPoint(init,final,N):\n",
    "    m = slopeAngle(init,final) \n",
    "    if m in [0,90]:\n",
    "        if final[1] == init[1]:\n",
    "            point  ((int(final[0]+(final[0] - init[0])/abs((final[0] - init[0]))), final[1]))\n",
    "        elif final[0] == init[0]:\n",
    "            point  ((final[0], int(final[1]+(final[1] - init[1])/abs((final[1] - init[1]))) ))\n",
    "    elif m in [45]:\n",
    "        point (((int(final[0]+(final[0] - init[0])/abs((final[0] - init[0])))), int(final[1]+(final[1] - init[1])/abs((final[1] - init[1]))) ))\n",
    "    \n",
    "    return point if valid_index(point,N,N) else None"
   ]
  },
  {
   "cell_type": "code",
   "execution_count": null,
   "id": "e1003591-fa49-4f8d-be79-10418b4f54d6",
   "metadata": {},
   "outputs": [],
   "source": [
    "final[0] + ((final[1] - init[1])/abs((final[1] - init[1])))"
   ]
  },
  {
   "cell_type": "code",
   "execution_count": null,
   "id": "1ba72a21-5f91-4b59-8fe5-b721e1aa0217",
   "metadata": {},
   "outputs": [],
   "source": [
    "final"
   ]
  },
  {
   "cell_type": "code",
   "execution_count": null,
   "id": "c27899a1-abcc-44e6-8dfa-fedb7dea6615",
   "metadata": {},
   "outputs": [],
   "source": [
    "\"hg\" if None else \"jj\""
   ]
  },
  {
   "cell_type": "code",
   "execution_count": null,
   "id": "6894143a-b1ac-4259-bb20-dd3b78c63e88",
   "metadata": {},
   "outputs": [],
   "source": [
    "# Python code to demonstrate\n",
    "# Count Strings with substring String List\n",
    "# using filter() + lambda + len()\n",
    "\n",
    "# initializing list\n",
    "test_list = ['GeeksforGeeks', 'Geeky', 'Computers', 'Algorithms']\n",
    "\n",
    "# printing original list\n",
    "print (\"The original list is : \" + str(test_list))\n",
    "\n",
    "# initializing substring\n",
    "subs = 'Geek'\n",
    "\n",
    "# using filter() + lambda + len()\n",
    "# Count Strings with substring String List\n",
    "res = list(filter(lambda x: subs in x, test_list))\n",
    "\n",
    "# printing result\n",
    "print(res)\n"
   ]
  },
  {
   "cell_type": "code",
   "execution_count": null,
   "id": "cbd5b29d-7c0e-4fa2-85e2-6d0a620868e8",
   "metadata": {},
   "outputs": [],
   "source": []
  },
  {
   "cell_type": "code",
   "execution_count": null,
   "id": "e13fec5f-c6d6-4a52-a384-651303d19949",
   "metadata": {},
   "outputs": [],
   "source": []
  },
  {
   "cell_type": "code",
   "execution_count": null,
   "id": "94e9c98e-41ff-4360-8980-38c8e2425d86",
   "metadata": {},
   "outputs": [],
   "source": []
  },
  {
   "cell_type": "code",
   "execution_count": null,
   "id": "612e0b46-9adf-473e-8cdf-446d1bb93243",
   "metadata": {},
   "outputs": [],
   "source": []
  },
  {
   "cell_type": "code",
   "execution_count": null,
   "id": "d419aaa4-d5f8-4214-82a8-9858d574f761",
   "metadata": {},
   "outputs": [],
   "source": [
    "N= 8"
   ]
  },
  {
   "cell_type": "code",
   "execution_count": null,
   "id": "b4b38f6b-64eb-43aa-92ed-8e357749b6e9",
   "metadata": {},
   "outputs": [],
   "source": [
    "# def genMoves(N):\n",
    "row,col = 0,0\n",
    "fw = [(row+i,col) for i in range(1,N)]\n",
    "bk = [(row-i,col) for i in range(1,N)]\n",
    "\n",
    "left = [(row,col-i) for i in range(1,N)]\n",
    "right = [(row,col+i) for i in range(1,N)]\n",
    "\n",
    "diag_lr_fw = [(i,i) for i in range(1,N)]\n",
    "diag_lr_bk = [(-i,-i) for i in range(1,N)]\n",
    "diag_rl_bk = [(-i,i) for i in range(1,N)]\n",
    "diag_rl_fw = [(i,-i) for i in range(1,N)]\n",
    "\n",
    "#     return { \"pichu\" : diag_lr_fw[0:1] + diag_rl_fw[0:1],\n",
    "#              \"pikachu\" : fw[0:2] + right[0:2] + left[0:2] }"
   ]
  },
  {
   "cell_type": "code",
   "execution_count": null,
   "id": "53f19989-182b-471f-ae82-915bbfca4832",
   "metadata": {},
   "outputs": [],
   "source": [
    "possible = fw[:] + right[:] + left[:] + bk[:] + diag_lr_bk[:] + diag_lr_fw[:] + diag_rl_bk[:] + diag_rl_fw[:]"
   ]
  },
  {
   "cell_type": "code",
   "execution_count": null,
   "id": "070aaf87-f268-491e-9a15-65979ecf957d",
   "metadata": {},
   "outputs": [],
   "source": [
    "# move = (move[0]+row,move[1]+col)\n",
    "\n",
    "row = 7\n",
    "col = 1\n",
    "\n",
    "[(move[0]+row,move[1]+col) for move in possible if valid_index((move[0]+row,move[1]+col),N,N)]"
   ]
  },
  {
   "cell_type": "code",
   "execution_count": null,
   "id": "73bc9ade-883e-4b5c-8b08-db2e88169ec6",
   "metadata": {},
   "outputs": [],
   "source": [
    "??valid_index"
   ]
  },
  {
   "cell_type": "code",
   "execution_count": null,
   "id": "4d672032-9539-4be1-b48d-e4928f620712",
   "metadata": {},
   "outputs": [],
   "source": [
    "board"
   ]
  },
  {
   "cell_type": "code",
   "execution_count": null,
   "id": "cfa32744-3c4a-4391-926b-2038af932fbd",
   "metadata": {},
   "outputs": [],
   "source": [
    "p = \"\"\n",
    "for i in d:\n",
    "    p = p+\"\".join(i)\n",
    "print (p)"
   ]
  },
  {
   "cell_type": "code",
   "execution_count": null,
   "id": "d87cef70-b68b-4fba-91d4-c00e33d13ec5",
   "metadata": {},
   "outputs": [],
   "source": [
    "board"
   ]
  },
  {
   "cell_type": "code",
   "execution_count": null,
   "id": "69b5a784-c425-4f9e-84bb-439a9a82fd09",
   "metadata": {},
   "outputs": [],
   "source": [
    "d"
   ]
  },
  {
   "cell_type": "code",
   "execution_count": null,
   "id": "4a7a41bb-8dbc-4987-afc2-3b7e5ce1990c",
   "metadata": {},
   "outputs": [],
   "source": [
    "board"
   ]
  },
  {
   "cell_type": "code",
   "execution_count": null,
   "id": "02cff9bc-bef4-4911-9fed-3dce40f27c63",
   "metadata": {},
   "outputs": [],
   "source": [
    "import numpy as np"
   ]
  },
  {
   "cell_type": "code",
   "execution_count": null,
   "id": "45d16094-3543-4259-ad9c-3995264b7bf0",
   "metadata": {},
   "outputs": [],
   "source": [
    "fb = np.flip(board,0).tolist()"
   ]
  },
  {
   "cell_type": "code",
   "execution_count": null,
   "id": "2038831e-4878-4392-9f93-77a85ee8da5f",
   "metadata": {},
   "outputs": [],
   "source": [
    "fb "
   ]
  },
  {
   "cell_type": "code",
   "execution_count": null,
   "id": "56876130-a78d-4790-80c0-b9108a495b18",
   "metadata": {},
   "outputs": [],
   "source": [
    "j = np.flip(fb,0).tolist()"
   ]
  },
  {
   "cell_type": "code",
   "execution_count": null,
   "id": "07c9b570-d749-4a53-8e58-002b5a7d596d",
   "metadata": {},
   "outputs": [],
   "source": [
    "%%timeit\n",
    "sum([j in \"wW@\" for i in board for j in i])"
   ]
  },
  {
   "cell_type": "code",
   "execution_count": null,
   "id": "270f370b-3e2a-4907-ae76-1b313b329ef1",
   "metadata": {},
   "outputs": [],
   "source": [
    "fb"
   ]
  },
  {
   "cell_type": "code",
   "execution_count": null,
   "id": "db1370bc-331b-4683-97ef-7c66c001307f",
   "metadata": {},
   "outputs": [],
   "source": [
    "p = \"\"\n",
    "for i in j:\n",
    "    p = p+\"\".join(i)\n",
    "print (p)"
   ]
  },
  {
   "cell_type": "code",
   "execution_count": null,
   "id": "d59e59fa-c96a-4b6d-b7b6-23b7a7cd137e",
   "metadata": {},
   "outputs": [],
   "source": [
    "j"
   ]
  },
  {
   "cell_type": "code",
   "execution_count": null,
   "id": "c55027dc-5636-4dcb-9344-9b3aebeb5ccc",
   "metadata": {},
   "outputs": [],
   "source": [
    "board"
   ]
  },
  {
   "cell_type": "code",
   "execution_count": null,
   "id": "8e347426-4ce0-4af6-82aa-e77684fa23d7",
   "metadata": {},
   "outputs": [],
   "source": [
    "board[5][1]=\".\"\n",
    "board[6][1]=\".\"\n",
    "board[7][1]=\"W\""
   ]
  },
  {
   "cell_type": "code",
   "execution_count": null,
   "id": "f5d516cc-327a-435b-be1c-65ffffc59f23",
   "metadata": {},
   "outputs": [],
   "source": [
    "def utility(board,main_player):\n",
    "    white = sum([j in \"wW@\" for i in board for j in i])\n",
    "    black = sum([j in \"bB$\" for i in board for j in i])\n",
    "    # print(white,black)\n",
    "    # if white-black == 3:\n",
    "    #     print (white - black)\n",
    "        # print(\"&&&&&&&&&&&&&&&&&\")\n",
    "        # print_board(board,len(board))\n",
    "        # print(\"&&&&&&&&&&&&&&&&&\")\n",
    "    # return white-black   \n",
    "    return white-black if main_player == \"w\" else black-white\n",
    "\n",
    "\n",
    "utility(board,\"w\")"
   ]
  },
  {
   "cell_type": "code",
   "execution_count": null,
   "id": "2027e3ef-4950-4608-b31c-d36c730d848a",
   "metadata": {},
   "outputs": [],
   "source": [
    "........\n",
    "..W.W.W.\n",
    ".w.w.w.w\n",
    "........\n",
    "........\n",
    "b.b.b.b.\n",
    "...B.B.B\n",
    ".W......"
   ]
  },
  {
   "cell_type": "code",
   "execution_count": null,
   "id": "dd617540-7b9f-4586-8175-0435df1e2f31",
   "metadata": {},
   "outputs": [],
   "source": [
    "def min_value(board,d, max_depth, player, main_player):\n",
    "    nextPlayer = \"b\" if player == \"w\" else \"w\"\n",
    "    if d == max_depth:\n",
    "        return utility(board,main_player)\n",
    "    else:\n",
    "        value = np.inf\n",
    "        for a in actions(board,player):\n",
    "            value = min(value, max_value(a, d+1, max_depth, nextPlayer, main_player))\n",
    "        return value"
   ]
  },
  {
   "cell_type": "code",
   "execution_count": null,
   "id": "1708d4f6-22f7-4845-a562-1140be718fb1",
   "metadata": {},
   "outputs": [],
   "source": []
  },
  {
   "cell_type": "code",
   "execution_count": null,
   "id": "fa8810c4-6848-4752-83da-990081c3821c",
   "metadata": {},
   "outputs": [],
   "source": [
    "def min_value(board, alpha, beta, d, max_depth, player):\n",
    "    nextPlayer = \"b\" if player == \"w\" else \"w\"\n",
    "    if d == max_depth:\n",
    "        return utility(board)\n",
    "    else:\n",
    "        value = np.inf\n",
    "        for a in actions(board,player):\n",
    "            value = min(value, max_value(a, alpha, beta, d+1, max_depth, nextPlayer))\n",
    "        return value\n",
    "\n",
    "def max_value(board, alpha, beta, d, max_depth, player):\n",
    "    nextPlayer = \"b\" if player == \"w\" else \"w\"\n",
    "    if d == max_depth:\n",
    "        return utility(board)\n",
    "    else:\n",
    "        value = -1*np.inf\n",
    "        for a in actions(board,player):\n",
    "            value = max(value, min_value(a, d+1, max_depth, nextPlayer))\n",
    "        return value"
   ]
  },
  {
   "cell_type": "code",
   "execution_count": 12,
   "id": "64a6115e-b76a-48a3-bec3-a6ebed2e5514",
   "metadata": {},
   "outputs": [],
   "source": [
    "def getCount(board):\n",
    "    unique, counts = np.unique(np.array(board), return_counts=True)\n",
    "    return dict(zip(unique,counts))\n",
    "    \n",
    "    \n",
    "def weightedTypeDiff(board,counts,main_player):\n",
    "    weights = [1,2,3]\n",
    "    \n",
    "    \n",
    "    #Pichus\n",
    "    w_pichu = 0 if \"w\" not in counts.keys() else counts[\"w\"]\n",
    "    b_pichu = 0 if \"b\" not in counts.keys() else counts[\"b\"]\n",
    "    pichu =  w_pichu-b_pichu if main_player == \"w\" else b_pichu-w_pichu\n",
    "    \n",
    "    #pikachus\n",
    "    w_pikachu = 0 if \"W\" not in counts.keys() else counts[\"W\"]\n",
    "    b_pikachu = 0 if \"B\" not in counts.keys() else counts[\"B\"]\n",
    "    pikachu =  w_pikachu-b_pikachu if main_player == \"w\" else b_pikachu-w_pikachu\n",
    "    \n",
    "    #raichus\n",
    "    w_raichu = 0 if \"@\" not in counts.keys() else counts[\"@\"]\n",
    "    b_raichu = 0 if \"$\" not in counts.keys() else counts[\"$\"]\n",
    "    raichu =  w_raichu-b_raichu if main_player == \"w\" else b_raichu-w_raichu\n",
    "    \n",
    "    return weights[0]*pichu + weights[1]*pikachu + weights[2]*raichu\n",
    "\n",
    "def utility(board,main_player):\n",
    "    #weight difference between types of white pieces and black pieces\n",
    "    counts = getCount(board)\n",
    "    return weightedTypeDiff(board,counts,main_player)"
   ]
  },
  {
   "cell_type": "code",
   "execution_count": 48,
   "id": "4ee1fd22-3791-45f7-9e81-701cab5794bb",
   "metadata": {},
   "outputs": [],
   "source": [
    "counts = getCount(board)"
   ]
  },
  {
   "cell_type": "code",
   "execution_count": null,
   "id": "9f68406f-8b7b-494b-84e8-17361d87d538",
   "metadata": {},
   "outputs": [],
   "source": []
  },
  {
   "cell_type": "code",
   "execution_count": 74,
   "id": "5499c508-8240-4ec5-9f40-c5f47a05e51f",
   "metadata": {},
   "outputs": [],
   "source": [
    "from scipy.spatial import distance\n",
    "import numpy as np\n",
    "\n",
    "def valid_index(pos, n, m):\n",
    "        return 0 <= pos[0] < n  and 0 <= pos[1] < m\n",
    "\n",
    "def nextPoint(init,final,N):\n",
    "    m = slopeAngle(init,final) \n",
    "    if m in [0,90]:\n",
    "        if final[1] == init[1]:\n",
    "            point = ((int(final[0]+(final[0] - init[0])/abs((final[0] - init[0]))), final[1]))\n",
    "        elif final[0] == init[0]:\n",
    "            point = ((final[0], int(final[1]+(final[1] - init[1])/abs((final[1] - init[1]))) ))\n",
    "    elif m in [45]:\n",
    "        point = (((int(final[0]+(final[0] - init[0])/abs((final[0] - init[0])))), int(final[1]+(final[1] - init[1])/abs((final[1] - init[1]))) ))\n",
    "    \n",
    "    return point if valid_index(point,N,N) else None\n",
    "\n",
    "\n",
    "def isThreat(a,b,threat_piece,N):\n",
    "    max_range_info = {\n",
    "        \"w\":1,\"b\":1,\"W\":2,\"B\":2,\"$\":np.inf,\"@\":np.inf\n",
    "    }\n",
    "    \n",
    "    angle_info = {\n",
    "        \"w\":[45],\"b\":[45],\"W\":[90,0],\"B\":[90,0],\"$\":[0,90,45],\"@\":[0,90,45]\n",
    "    }\n",
    "    \n",
    "    \n",
    "    if (slopeAngle(a,b) in angle_info[threat_piece]) and (distance.euclidean(a , b) <= max_range_info[threat_piece]):\n",
    "        next_point = nextPoint(b,a,N)\n",
    "        if next_point:\n",
    "            if board[next_point[0]][next_point[1]] == \".\":\n",
    "                content = [board[pt[0]][pt[1]] for pt in all_cells_in_bw(b,next_point)]\n",
    "                if len(content) == 0:\n",
    "                    return True\n",
    "                elif content.count(\".\") == len(content) - 1:\n",
    "                    return True\n",
    "        \n",
    "    \n",
    "    return False\n",
    "\n",
    "def Threats(board, counts, player):\n",
    "    state = np.array(board)\n",
    "    player_info = {\"w\": \"wW@\",\"b\":\"bB$\"}\n",
    "    player_threat_info = {\"b\": \"wW@\",\"w\":\"bB$\",\"W\":\"B$\",\"B\":\"W@\",\"@\":\"$\",\"$\":\"@\"}\n",
    "    threat_weights = {\"w\":1,\"W\":2,\"@\":3,\"b\":1,\"B\":2,\"$\":3}\n",
    "    threatSum = 0\n",
    "    for each in player_info[player]:\n",
    "        print(each)\n",
    "        if each in counts.keys():\n",
    "            for each_position in np.argwhere(state == each):\n",
    "                for each_threat in player_threat_info[each]:\n",
    "                    if each_threat in counts.keys():\n",
    "                        for threat_position in np.argwhere(state == each_threat):\n",
    "                            threatSum += threat_weights[each] if isThreat(each_position,threat_position,each_threat,len(board)) else 0\n",
    "\n",
    "    return threatSum\n",
    "\n",
    "def utility(board,main_player):\n",
    "    #weight difference between types of white pieces and black pieces\n",
    "    counts = getCount(board)\n",
    "    return remaining(counts,main_player) + Threats(board,counts,\"w\" if main_player==\"b\" else \"b\") + (-1*Threats(board,counts,main_player))\n",
    "#     return weightedTypeDiff(board,counts,main_player) + Threats(board,counts,\"w\" if main_player==\"b\" else \"b\") + (-1*Threats(board,counts,main_player))\n"
   ]
  },
  {
   "cell_type": "code",
   "execution_count": 75,
   "id": "9f2a2ff8-2d51-4968-ba1e-88dc4b7286c3",
   "metadata": {},
   "outputs": [],
   "source": [
    "def remaining(counts,player):\n",
    "    remaining = 0\n",
    "    player_info = {\"w\": \"wW@\",\"b\":\"bB$\"}\n",
    "    for each in player_info[\"w\" if player==\"b\" else \"b\"]:\n",
    "        if each in counts.keys():\n",
    "            remaining+=counts[each]\n",
    "    return -1*remaining"
   ]
  },
  {
   "cell_type": "code",
   "execution_count": 87,
   "id": "ee38a0bf-0c7b-4e10-8d1b-479bec00b25b",
   "metadata": {},
   "outputs": [],
   "source": [
    "def distToRaichu(board,player):\n",
    "    distance = 0\n",
    "    state = np.array(board)\n",
    "    player_info = {\"w\": \"wW\",\"b\":\"bB\"}\n",
    "    if player == \"b\":\n",
    "        state = np.flip(state,0)\n",
    "    for each in player_info[player]:\n",
    "        for each_loc in np.argwhere(state == each):\n",
    "            distance+= (len(board) - each_loc[0]) - 1\n",
    "    return distance"
   ]
  },
  {
   "cell_type": "code",
   "execution_count": 88,
   "id": "e468063a-ab14-4c60-8a46-90f2fe9dafe5",
   "metadata": {},
   "outputs": [
    {
     "data": {
      "text/plain": [
       "4"
      ]
     },
     "execution_count": 88,
     "metadata": {},
     "output_type": "execute_result"
    }
   ],
   "source": [
    "distToRaichu(board,\"b\")"
   ]
  },
  {
   "cell_type": "code",
   "execution_count": null,
   "id": "3c750e66-e70d-4272-9b30-60aae410c367",
   "metadata": {},
   "outputs": [],
   "source": [
    "....$.....b........b..........w................@.......B........"
   ]
  },
  {
   "cell_type": "code",
   "execution_count": null,
   "id": "f74c8db0-d132-4d81-8447-da096b90f0de",
   "metadata": {},
   "outputs": [],
   "source": []
  },
  {
   "cell_type": "code",
   "execution_count": 76,
   "id": "6e675953-4d1d-496b-a392-bfcfae7013ba",
   "metadata": {},
   "outputs": [
    {
     "name": "stdout",
     "output_type": "stream",
     "text": [
      "w\n",
      "[4 5] [4 4] ['w']\n",
      "W\n",
      "[6 4] [4 4] ['.', 'W']\n",
      "@\n"
     ]
    },
    {
     "name": "stderr",
     "output_type": "stream",
     "text": [
      "<ipython-input-34-cbf3da8d1946>:14: RuntimeWarning: divide by zero encountered in longlong_scalars\n",
      "  m = (p2[1]-p1[1])/(p2[0]-p1[0])\n"
     ]
    },
    {
     "data": {
      "text/plain": [
       "3"
      ]
     },
     "execution_count": 76,
     "metadata": {},
     "output_type": "execute_result"
    }
   ],
   "source": [
    "# utility(board,\"w\")\n",
    "Threats(board,counts,\"w\")"
   ]
  },
  {
   "cell_type": "code",
   "execution_count": 85,
   "id": "da1315bf-fef9-4840-ab2b-798fcee452b9",
   "metadata": {},
   "outputs": [
    {
     "data": {
      "text/plain": [
       "[['.', '.', '.', '.', '.', '.', '.', '.'],\n",
       " ['W', '.', '.', '.', 'W', '.', 'W', '.'],\n",
       " ['.', '.', '.', '.', '.', '.', '.', 'w'],\n",
       " ['.', '.', '.', '.', '.', '.', 'w', '.'],\n",
       " ['.', '.', '.', '.', 'B', 'w', '.', '.'],\n",
       " ['.', '.', '.', '.', '.', '.', '.', '.'],\n",
       " ['.', '.', '.', '.', 'W', '.', '.', '.'],\n",
       " ['.', '.', '.', '.', '.', '.', '.', '.']]"
      ]
     },
     "execution_count": 85,
     "metadata": {},
     "output_type": "execute_result"
    }
   ],
   "source": [
    "board"
   ]
  },
  {
   "cell_type": "code",
   "execution_count": null,
   "id": "344e47c3-35e8-4a3a-98f9-994f6f22e163",
   "metadata": {},
   "outputs": [],
   "source": [
    "for each_position in np.argwhere(a == \"B\"):\n",
    "    print(each_position)"
   ]
  },
  {
   "cell_type": "code",
   "execution_count": null,
   "id": "52930115-3c6a-4d87-b1e2-1ce8c599e0c7",
   "metadata": {},
   "outputs": [],
   "source": [
    "%%timeit\n",
    "np.argwhere(a == \"w\")"
   ]
  },
  {
   "cell_type": "code",
   "execution_count": null,
   "id": "f99750c6-87d3-4e86-8b56-2e79f169bf6b",
   "metadata": {},
   "outputs": [],
   "source": [
    "%%timeit\n",
    "np.argwhere(a == \"b\").tolist()"
   ]
  },
  {
   "cell_type": "code",
   "execution_count": null,
   "id": "17fb90da-ccb4-4c06-8c2c-1dcce2febac6",
   "metadata": {},
   "outputs": [],
   "source": [
    "np.argwhere(a == \"B\")"
   ]
  },
  {
   "cell_type": "code",
   "execution_count": null,
   "id": "d735925e-d38e-4499-9f4b-5f63ff12163e",
   "metadata": {},
   "outputs": [],
   "source": [
    "np.argwhere(a == \"$\")"
   ]
  },
  {
   "cell_type": "code",
   "execution_count": null,
   "id": "0c31a4d8-7962-4ef9-a982-3be280b211b1",
   "metadata": {},
   "outputs": [],
   "source": [
    "np.argwhere(a == \"@\")"
   ]
  },
  {
   "cell_type": "code",
   "execution_count": null,
   "id": "e64a3775-8147-4020-8486-669d3cb8bdd1",
   "metadata": {},
   "outputs": [],
   "source": [
    "utility(board,\"w\")"
   ]
  },
  {
   "cell_type": "code",
   "execution_count": 49,
   "id": "f951bc80-aec0-43cb-90a4-7d9c6a877d25",
   "metadata": {},
   "outputs": [
    {
     "ename": "NameError",
     "evalue": "name 'main_player' is not defined",
     "output_type": "error",
     "traceback": [
      "\u001b[1;31m---------------------------------------------------------------------------\u001b[0m",
      "\u001b[1;31mNameError\u001b[0m                                 Traceback (most recent call last)",
      "\u001b[1;32m<ipython-input-49-6e448951553d>\u001b[0m in \u001b[0;36m<module>\u001b[1;34m\u001b[0m\n\u001b[1;32m----> 1\u001b[1;33m \u001b[0mmain_player\u001b[0m\u001b[1;33m\u001b[0m\u001b[1;33m\u001b[0m\u001b[0m\n\u001b[0m",
      "\u001b[1;31mNameError\u001b[0m: name 'main_player' is not defined"
     ]
    }
   ],
   "source": [
    "main_player"
   ]
  },
  {
   "cell_type": "code",
   "execution_count": 7,
   "id": "63792276-205a-49ac-842b-6d7e7fad9345",
   "metadata": {},
   "outputs": [
    {
     "ename": "SyntaxError",
     "evalue": "invalid syntax (<ipython-input-7-1d6bd9296f3d>, line 1)",
     "output_type": "error",
     "traceback": [
      "\u001b[1;36m  File \u001b[1;32m\"<ipython-input-7-1d6bd9296f3d>\"\u001b[1;36m, line \u001b[1;32m1\u001b[0m\n\u001b[1;33m    ........W...W.W........w......w.....Bw..............W...........\u001b[0m\n\u001b[1;37m       ^\u001b[0m\n\u001b[1;31mSyntaxError\u001b[0m\u001b[1;31m:\u001b[0m invalid syntax\n"
     ]
    }
   ],
   "source": [
    "........W...W.W........w......w.....Bw..............W..........."
   ]
  },
  {
   "cell_type": "code",
   "execution_count": 8,
   "id": "d4041650-c544-49b4-b977-7d60d04f77af",
   "metadata": {},
   "outputs": [],
   "source": [
    "str_board = \"........W...W.W........w......w.....Bw..............W...........\"\n",
    "number_board = []\n",
    "for i in range(N):\n",
    "        number_board.append([p for p in str_board[N*i:N*(i+1)]])\n",
    "board = number_board "
   ]
  },
  {
   "cell_type": "code",
   "execution_count": 9,
   "id": "e38fda3b-44db-442a-b4cf-84ccf913d269",
   "metadata": {},
   "outputs": [
    {
     "data": {
      "text/plain": [
       "[['.', '.', '.', '.', '.', '.', '.', '.'],\n",
       " ['W', '.', '.', '.', 'W', '.', 'W', '.'],\n",
       " ['.', '.', '.', '.', '.', '.', '.', 'w'],\n",
       " ['.', '.', '.', '.', '.', '.', 'w', '.'],\n",
       " ['.', '.', '.', '.', 'B', 'w', '.', '.'],\n",
       " ['.', '.', '.', '.', '.', '.', '.', '.'],\n",
       " ['.', '.', '.', '.', 'W', '.', '.', '.'],\n",
       " ['.', '.', '.', '.', '.', '.', '.', '.']]"
      ]
     },
     "execution_count": 9,
     "metadata": {},
     "output_type": "execute_result"
    }
   ],
   "source": [
    "board"
   ]
  },
  {
   "cell_type": "code",
   "execution_count": null,
   "id": "3a77400f-cd52-4d22-84b7-09ebf3489f9a",
   "metadata": {},
   "outputs": [],
   "source": [
    "%%timeit\n"
   ]
  },
  {
   "cell_type": "code",
   "execution_count": null,
   "id": "4ad4c2a6-a15d-4dba-9a9e-72b601bc8ceb",
   "metadata": {},
   "outputs": [],
   "source": []
  },
  {
   "cell_type": "code",
   "execution_count": null,
   "id": "caa118f7-9846-47ca-8a50-db54e51262e9",
   "metadata": {},
   "outputs": [],
   "source": [
    "unique"
   ]
  },
  {
   "cell_type": "code",
   "execution_count": null,
   "id": "7aaa21ec-45e3-408e-9375-761be38fd90a",
   "metadata": {},
   "outputs": [],
   "source": [
    "counts"
   ]
  },
  {
   "cell_type": "code",
   "execution_count": null,
   "id": "6c7d67fa-7dc6-4511-95d8-fff3011a48d0",
   "metadata": {},
   "outputs": [],
   "source": []
  },
  {
   "cell_type": "code",
   "execution_count": null,
   "id": "7ade5ab2-9a90-40f8-95cc-5e2670b5da1b",
   "metadata": {},
   "outputs": [],
   "source": [
    ".........BB......B.B................@....................$......"
   ]
  },
  {
   "cell_type": "code",
   "execution_count": null,
   "id": "7b800adc-27b6-46b7-a1a8-f68c98300297",
   "metadata": {},
   "outputs": [],
   "source": [
    "str_board = \".........BB......B.B....................................@$......\"\n",
    "number_board = []\n",
    "for i in range(N):\n",
    "        number_board.append([p for p in str_board[N*i:N*(i+1)]])\n",
    "board = number_board "
   ]
  },
  {
   "cell_type": "code",
   "execution_count": null,
   "id": "3a9b59ee-1404-42e0-9b68-89f6c45a5240",
   "metadata": {},
   "outputs": [],
   "source": [
    "board"
   ]
  },
  {
   "cell_type": "code",
   "execution_count": null,
   "id": "2d169dbd-17f4-4041-9017-038da8c7612e",
   "metadata": {},
   "outputs": [],
   "source": []
  },
  {
   "cell_type": "code",
   "execution_count": null,
   "id": "d7910f0d-8d52-415f-ab77-c10cdb410a8f",
   "metadata": {},
   "outputs": [],
   "source": [
    "str_board = \"....$.....b........b..........w................................@\"\n",
    "number_board = []\n",
    "for i in range(N):\n",
    "        number_board.append([p for p in str_board[N*i:N*(i+1)]])\n",
    "board = number_board "
   ]
  },
  {
   "cell_type": "code",
   "execution_count": null,
   "id": "9be7bd3a-76d0-4bcf-83a1-2b5defda7470",
   "metadata": {},
   "outputs": [],
   "source": [
    "board"
   ]
  },
  {
   "cell_type": "code",
   "execution_count": 112,
   "id": "dc0e08ef-aa6e-495b-b676-973c3451ff55",
   "metadata": {},
   "outputs": [],
   "source": [
    "#### Utility Function and Supporting Functions\n",
    "\n",
    "def getCount(board):\n",
    "    unique, counts = np.unique(np.array(board), return_counts=True)\n",
    "    return dict(zip(unique,counts))\n",
    "\n",
    "def remaining(counts,player):\n",
    "    remaining = 0\n",
    "    player_info = {\"w\": \"wW@\",\"b\":\"bB$\"}\n",
    "    for each in player_info[\"w\" if player==\"b\" else \"b\"]:\n",
    "        if each in counts.keys():\n",
    "            remaining+=counts[each]\n",
    "    return remaining\n",
    "\n",
    "def weightedTypeDiff(board,counts,main_player):\n",
    "    weights = [1,2,3]\n",
    "    \n",
    "    \n",
    "    #Pichus\n",
    "    w_pichu = 0 if \"w\" not in counts.keys() else counts[\"w\"]\n",
    "    b_pichu = 0 if \"b\" not in counts.keys() else counts[\"b\"]\n",
    "    pichu =  w_pichu-b_pichu if main_player == \"w\" else b_pichu-w_pichu\n",
    "    \n",
    "    #pikachus\n",
    "    w_pikachu = 0 if \"W\" not in counts.keys() else counts[\"W\"]\n",
    "    b_pikachu = 0 if \"B\" not in counts.keys() else counts[\"B\"]\n",
    "    pikachu =  w_pikachu-b_pikachu if main_player == \"w\" else b_pikachu-w_pikachu\n",
    "    \n",
    "    #raichus\n",
    "    w_raichu = 0 if \"@\" not in counts.keys() else counts[\"@\"]\n",
    "    b_raichu = 0 if \"$\" not in counts.keys() else counts[\"$\"]\n",
    "    raichu =  w_raichu-b_raichu if main_player == \"w\" else b_raichu-w_raichu\n",
    "    \n",
    "    return weights[0]*pichu + weights[1]*pikachu + weights[2]*raichu\n",
    "\n",
    "def isThreat(board, a,b,threat_piece,N):\n",
    "    max_range_info = {\n",
    "        \"w\":1,\"b\":1,\"W\":2,\"B\":2,\"$\":np.inf,\"@\":np.inf\n",
    "    }\n",
    "    \n",
    "    angle_info = {\n",
    "        \"w\":[45],\"b\":[45],\"W\":[90,0],\"B\":[90,0],\"$\":[0,90,45],\"@\":[0,90,45]\n",
    "    }\n",
    "    \n",
    "    \n",
    "    if (slopeAngle(a,b) in angle_info[threat_piece]) and (distance.euclidean(a , b) <= max_range_info[threat_piece]):\n",
    "        next_point = nextPoint(b,a,N)\n",
    "        if next_point != None:\n",
    "            if board[next_point[0]][next_point[1]] == \".\":\n",
    "                content = [board[pt[0]][pt[1]] for pt in all_cells_in_bw(b,next_point)]\n",
    "                if len(content) == 0:\n",
    "                    return True\n",
    "                elif content.count(\".\") == len(content) - 1:\n",
    "                    return True\n",
    "        \n",
    "    \n",
    "    return False\n",
    "\n",
    "def distToRaichu(board,player):\n",
    "    distance = 0\n",
    "    state = np.array(board)\n",
    "    player_info = {\"w\": \"wW\",\"b\":\"bB\"}\n",
    "    if player == \"b\":\n",
    "        state = np.flip(state,0)\n",
    "    for each in player_info[player]:\n",
    "        for each_loc in np.argwhere(state == each):\n",
    "            distance+= (len(board) - each_loc[0]) - 1\n",
    "    return distance\n",
    "\n",
    "\n",
    "def Threats(board, counts, player):\n",
    "    state = np.array(board)\n",
    "    player_info = {\"w\": \"wW@\",\"b\":\"bB$\"}\n",
    "    player_threat_info = {\"b\": \"wW@\",\"w\":\"bB$\",\"W\":\"B$\",\"B\":\"W@\",\"@\":\"$\",\"$\":\"@\"}\n",
    "    threat_weights = {\"w\":1,\"W\":2,\"@\":3,\"b\":1,\"B\":2,\"$\":3}\n",
    "    threatSum = 0\n",
    "    for each in player_info[player]:\n",
    "        if each in counts.keys():\n",
    "            for each_position in np.argwhere(state == each):\n",
    "                for each_threat in player_threat_info[each]:\n",
    "                    if each_threat in counts.keys():\n",
    "                        for threat_position in np.argwhere(state == each_threat):\n",
    "                            threatSum += threat_weights[each] if isThreat(board, each_position,threat_position,each_threat, len(board)) else 0\n",
    "\n",
    "    return threatSum\n",
    "\n",
    "def utility(board,main_player, inital_remaining_my_pieces,inital_remaining_enemies):\n",
    "    #weight difference between types of white pieces and black pieces\n",
    "    counts = getCount(board)\n",
    "    # return (weightedTypeDiff(board,counts,main_player) + # () +\n",
    "    #         (1.5*Threats(board,counts,\"w\" if main_player==\"b\" else \"b\")) + \n",
    "    #         (-1*Threats(board,counts,main_player)))\n",
    "    \n",
    "    print(\"wd\", (weightedTypeDiff(board,counts,main_player)))\n",
    "    print(\"e_rm\", (2*(inital_remaining_enemies - remaining(counts,main_player))))\n",
    "    print(\"my_rem\", (-1*(inital_remaining_my_pieces - remaining(getCount(board),\"b\" if main_player == \"w\" else \"w\"))))\n",
    "    print(\"threat\", (-1*Threats(board,counts,main_player)))\n",
    "    print(\"distToRaichu\", -1.5*distToRaichu(board,main_player))      \n",
    "    return ((weightedTypeDiff(board,counts,main_player) + \n",
    "            2*(inital_remaining_enemies - remaining(counts,main_player)) +\n",
    "            -1*(inital_remaining_my_pieces - remaining(getCount(board),\"b\" if main_player == \"w\" else \"w\")) + # (1.5* Threats(board,counts,\"w\" if main_player==\"b\" else \"b\")) + \n",
    "            (-1*Threats(board,counts,main_player))) -- 1.5*distToRaichu(board,main_player))"
   ]
  },
  {
   "cell_type": "code",
   "execution_count": 113,
   "id": "011e6caf-320a-494d-9da5-6548a65fe1a8",
   "metadata": {},
   "outputs": [
    {
     "name": "stdout",
     "output_type": "stream",
     "text": [
      "....$...\n",
      "..b.....\n",
      "...b....\n",
      "......w.\n",
      "........\n",
      "........\n",
      "........\n",
      ".......@\n",
      "wd -1\n",
      "e_rm 2\n",
      "my_rem 0\n",
      "threat 0\n",
      "distToRaichu -6.0\n"
     ]
    },
    {
     "data": {
      "text/plain": [
       "7.0"
      ]
     },
     "execution_count": 113,
     "metadata": {},
     "output_type": "execute_result"
    }
   ],
   "source": [
    "str_board = \"....$.....b........b..........w................................@\"\n",
    "number_board = []\n",
    "for i in range(N):\n",
    "        number_board.append([p for p in str_board[N*i:N*(i+1)]])\n",
    "board = number_board \n",
    "print_board(board, N)\n",
    "\n",
    "utility(board,\"w\", 2, 4)"
   ]
  },
  {
   "cell_type": "code",
   "execution_count": 116,
   "id": "18b811a3-bb80-44f8-ba32-0bddee76729e",
   "metadata": {},
   "outputs": [
    {
     "name": "stdout",
     "output_type": "stream",
     "text": [
      "..@.$...\n",
      "..b.....\n",
      "...b....\n",
      "......w.\n",
      "........\n",
      "........\n",
      ".......B\n",
      "........\n",
      "wd -3\n",
      "e_rm 0\n",
      "my_rem 0\n",
      "threat -3\n",
      "distToRaichu -6.0\n"
     ]
    },
    {
     "name": "stderr",
     "output_type": "stream",
     "text": [
      "<ipython-input-34-cbf3da8d1946>:14: RuntimeWarning: divide by zero encountered in longlong_scalars\n",
      "  m = (p2[1]-p1[1])/(p2[0]-p1[0])\n"
     ]
    },
    {
     "data": {
      "text/plain": [
       "0.0"
      ]
     },
     "execution_count": 116,
     "metadata": {},
     "output_type": "execute_result"
    }
   ],
   "source": [
    "str_board = \"..@.$.....b........b..........w........................B........\"\n",
    "number_board = []\n",
    "for i in range(N):\n",
    "        number_board.append([p for p in str_board[N*i:N*(i+1)]])\n",
    "board = number_board \n",
    "print_board(board, N)\n",
    "\n",
    "utility(board,\"w\", 2, 4)"
   ]
  },
  {
   "cell_type": "code",
   "execution_count": null,
   "id": "0aa60543-4a4f-47f8-9978-a9aeef9565ec",
   "metadata": {},
   "outputs": [],
   "source": []
  }
 ],
 "metadata": {
  "kernelspec": {
   "display_name": "Python 3",
   "language": "python",
   "name": "python3"
  },
  "language_info": {
   "codemirror_mode": {
    "name": "ipython",
    "version": 3
   },
   "file_extension": ".py",
   "mimetype": "text/x-python",
   "name": "python",
   "nbconvert_exporter": "python",
   "pygments_lexer": "ipython3",
   "version": "3.8.8"
  }
 },
 "nbformat": 4,
 "nbformat_minor": 5
}
